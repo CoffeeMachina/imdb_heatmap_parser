{
 "cells": [
  {
   "cell_type": "code",
   "execution_count": 113,
   "metadata": {
    "collapsed": true,
    "pycharm": {
     "name": "#%%\n"
    }
   },
   "outputs": [],
   "source": [
    "import pandas as pd\n"
   ]
  },
  {
   "cell_type": "code",
   "execution_count": 114,
   "outputs": [
    {
     "data": {
      "text/plain": "        Const  Your Rating  Date Rated                Title  \\\n0  tt10016180            4  2021-02-26    The Little Things   \n1  tt10023286            8  2021-12-05           The Humans   \n2   tt0100403            5  2022-11-27           Predator 2   \n3  tt10048342            8  2020-11-21   The Queen's Gambit   \n4   tt1010048            9  2011-03-19  Slumdog Millionaire   \n\n                                      URL    Title Type  IMDb Rating  \\\n0  https://www.imdb.com/title/tt10016180/         movie          6.3   \n1  https://www.imdb.com/title/tt10023286/         movie          6.2   \n2   https://www.imdb.com/title/tt0100403/         movie          6.3   \n3  https://www.imdb.com/title/tt10048342/  tvMiniSeries          8.6   \n4   https://www.imdb.com/title/tt1010048/         movie          8.0   \n\n   Runtime (mins)  Year                           Genres  Num Votes  \\\n0           128.0  2021  Crime, Drama, Mystery, Thriller     108418   \n1           108.0  2021                            Drama       8818   \n2           108.0  1990           Action, Horror, Sci-Fi     172327   \n3            60.0  2020                            Drama     470654   \n4           120.0  2008            Crime, Drama, Romance     852177   \n\n  Release Date                     Directors  \n0   2021-01-28              John Lee Hancock  \n1   2021-09-12                 Stephen Karam  \n2   1990-11-19               Stephen Hopkins  \n3   2020-10-23                           NaN  \n4   2008-08-30  Loveleen Tandan, Danny Boyle  ",
      "text/html": "<div>\n<style scoped>\n    .dataframe tbody tr th:only-of-type {\n        vertical-align: middle;\n    }\n\n    .dataframe tbody tr th {\n        vertical-align: top;\n    }\n\n    .dataframe thead th {\n        text-align: right;\n    }\n</style>\n<table border=\"1\" class=\"dataframe\">\n  <thead>\n    <tr style=\"text-align: right;\">\n      <th></th>\n      <th>Const</th>\n      <th>Your Rating</th>\n      <th>Date Rated</th>\n      <th>Title</th>\n      <th>URL</th>\n      <th>Title Type</th>\n      <th>IMDb Rating</th>\n      <th>Runtime (mins)</th>\n      <th>Year</th>\n      <th>Genres</th>\n      <th>Num Votes</th>\n      <th>Release Date</th>\n      <th>Directors</th>\n    </tr>\n  </thead>\n  <tbody>\n    <tr>\n      <th>0</th>\n      <td>tt10016180</td>\n      <td>4</td>\n      <td>2021-02-26</td>\n      <td>The Little Things</td>\n      <td>https://www.imdb.com/title/tt10016180/</td>\n      <td>movie</td>\n      <td>6.3</td>\n      <td>128.0</td>\n      <td>2021</td>\n      <td>Crime, Drama, Mystery, Thriller</td>\n      <td>108418</td>\n      <td>2021-01-28</td>\n      <td>John Lee Hancock</td>\n    </tr>\n    <tr>\n      <th>1</th>\n      <td>tt10023286</td>\n      <td>8</td>\n      <td>2021-12-05</td>\n      <td>The Humans</td>\n      <td>https://www.imdb.com/title/tt10023286/</td>\n      <td>movie</td>\n      <td>6.2</td>\n      <td>108.0</td>\n      <td>2021</td>\n      <td>Drama</td>\n      <td>8818</td>\n      <td>2021-09-12</td>\n      <td>Stephen Karam</td>\n    </tr>\n    <tr>\n      <th>2</th>\n      <td>tt0100403</td>\n      <td>5</td>\n      <td>2022-11-27</td>\n      <td>Predator 2</td>\n      <td>https://www.imdb.com/title/tt0100403/</td>\n      <td>movie</td>\n      <td>6.3</td>\n      <td>108.0</td>\n      <td>1990</td>\n      <td>Action, Horror, Sci-Fi</td>\n      <td>172327</td>\n      <td>1990-11-19</td>\n      <td>Stephen Hopkins</td>\n    </tr>\n    <tr>\n      <th>3</th>\n      <td>tt10048342</td>\n      <td>8</td>\n      <td>2020-11-21</td>\n      <td>The Queen's Gambit</td>\n      <td>https://www.imdb.com/title/tt10048342/</td>\n      <td>tvMiniSeries</td>\n      <td>8.6</td>\n      <td>60.0</td>\n      <td>2020</td>\n      <td>Drama</td>\n      <td>470654</td>\n      <td>2020-10-23</td>\n      <td>NaN</td>\n    </tr>\n    <tr>\n      <th>4</th>\n      <td>tt1010048</td>\n      <td>9</td>\n      <td>2011-03-19</td>\n      <td>Slumdog Millionaire</td>\n      <td>https://www.imdb.com/title/tt1010048/</td>\n      <td>movie</td>\n      <td>8.0</td>\n      <td>120.0</td>\n      <td>2008</td>\n      <td>Crime, Drama, Romance</td>\n      <td>852177</td>\n      <td>2008-08-30</td>\n      <td>Loveleen Tandan, Danny Boyle</td>\n    </tr>\n  </tbody>\n</table>\n</div>"
     },
     "execution_count": 114,
     "metadata": {},
     "output_type": "execute_result"
    }
   ],
   "source": [
    "df = pd.read_csv('./data/daniel_imdb_ratings_february_25_2023.csv')\n",
    "df.head()"
   ],
   "metadata": {
    "collapsed": false,
    "pycharm": {
     "name": "#%%\n"
    }
   }
  },
  {
   "cell_type": "code",
   "execution_count": 116,
   "outputs": [
    {
     "data": {
      "text/plain": "movie           545\ntvSeries         35\ntvEpisode        24\ntvMiniSeries     12\nvideoGame         6\nvideo             4\ntvMovie           2\nshort             1\nName: Title Type, dtype: int64"
     },
     "execution_count": 116,
     "metadata": {},
     "output_type": "execute_result"
    }
   ],
   "source": [
    "df['Title Type'].value_counts() ##TvSeries, TvMiniSeries"
   ],
   "metadata": {
    "collapsed": false,
    "pycharm": {
     "name": "#%%\n"
    }
   }
  },
  {
   "cell_type": "code",
   "execution_count": 124,
   "outputs": [
    {
     "data": {
      "text/plain": "array(['tt10048342', 'tt10155688', 'tt10166622', 'tt12005128',\n       'tt12530128'], dtype=object)"
     },
     "execution_count": 124,
     "metadata": {},
     "output_type": "execute_result"
    }
   ],
   "source": [
    "series_seen_list = df[df['Title Type'].apply(lambda x : x in ['tvSeries', 'tvMiniSeries'])]['Const'].values\n",
    "series_seen_list[:5]"
   ],
   "metadata": {
    "collapsed": false,
    "pycharm": {
     "name": "#%%\n"
    }
   }
  },
  {
   "cell_type": "code",
   "execution_count": null,
   "outputs": [],
   "source": [],
   "metadata": {
    "collapsed": false,
    "pycharm": {
     "name": "#%%\n"
    }
   }
  },
  {
   "cell_type": "code",
   "execution_count": 125,
   "outputs": [
    {
     "data": {
      "text/plain": "         tconst parentTconst  seasonNumber  episodeNumber  startYear  \\\n0     tt0606011    tt0412142             2              1       2005   \n1     tt0606012    tt0412142             2              2       2005   \n2     tt0606013    tt0412142             1             18       2005   \n3     tt0606014    tt0412142             1             14       2005   \n4     tt0606015    tt0412142             1             13       2005   \n...         ...          ...           ...            ...        ...   \n2433  tt9734958    tt7335184             2              7       2019   \n2434  tt9734986    tt7335184             2              8       2019   \n2435  tt9734994    tt7335184             2              9       2019   \n2436  tt9734998    tt7335184             2             10       2019   \n2437  tt9765202    tt0206512            13              1       2020   \n\n      averageRating  numVotes                        primaryTitle  \\\n0               8.4      2967                          Acceptance   \n1               9.2      4355                             Autopsy   \n2               8.8      3233                  Babies & Bathwater   \n3               8.6      3156                             Control   \n4               8.1      2946                              Cursed   \n...             ...       ...                                 ...   \n2433            8.3      3079                 Ex-istential Crisis   \n2434            8.7      3921  Fear and Loathing in Beverly Hills   \n2435            9.0      4233                            P.I. Joe   \n2436            8.6      4225                      Love, Actually   \n2437            6.8       177  A Place for Pets/Lockdown for Love   \n\n      runtimeMinutes  \n0                 44  \n1                 44  \n2                 44  \n3                 45  \n4                 45  \n...              ...  \n2433              50  \n2434              48  \n2435              44  \n2436              49  \n2437              23  \n\n[2438 rows x 9 columns]",
      "text/html": "<div>\n<style scoped>\n    .dataframe tbody tr th:only-of-type {\n        vertical-align: middle;\n    }\n\n    .dataframe tbody tr th {\n        vertical-align: top;\n    }\n\n    .dataframe thead th {\n        text-align: right;\n    }\n</style>\n<table border=\"1\" class=\"dataframe\">\n  <thead>\n    <tr style=\"text-align: right;\">\n      <th></th>\n      <th>tconst</th>\n      <th>parentTconst</th>\n      <th>seasonNumber</th>\n      <th>episodeNumber</th>\n      <th>startYear</th>\n      <th>averageRating</th>\n      <th>numVotes</th>\n      <th>primaryTitle</th>\n      <th>runtimeMinutes</th>\n    </tr>\n  </thead>\n  <tbody>\n    <tr>\n      <th>0</th>\n      <td>tt0606011</td>\n      <td>tt0412142</td>\n      <td>2</td>\n      <td>1</td>\n      <td>2005</td>\n      <td>8.4</td>\n      <td>2967</td>\n      <td>Acceptance</td>\n      <td>44</td>\n    </tr>\n    <tr>\n      <th>1</th>\n      <td>tt0606012</td>\n      <td>tt0412142</td>\n      <td>2</td>\n      <td>2</td>\n      <td>2005</td>\n      <td>9.2</td>\n      <td>4355</td>\n      <td>Autopsy</td>\n      <td>44</td>\n    </tr>\n    <tr>\n      <th>2</th>\n      <td>tt0606013</td>\n      <td>tt0412142</td>\n      <td>1</td>\n      <td>18</td>\n      <td>2005</td>\n      <td>8.8</td>\n      <td>3233</td>\n      <td>Babies &amp; Bathwater</td>\n      <td>44</td>\n    </tr>\n    <tr>\n      <th>3</th>\n      <td>tt0606014</td>\n      <td>tt0412142</td>\n      <td>1</td>\n      <td>14</td>\n      <td>2005</td>\n      <td>8.6</td>\n      <td>3156</td>\n      <td>Control</td>\n      <td>45</td>\n    </tr>\n    <tr>\n      <th>4</th>\n      <td>tt0606015</td>\n      <td>tt0412142</td>\n      <td>1</td>\n      <td>13</td>\n      <td>2005</td>\n      <td>8.1</td>\n      <td>2946</td>\n      <td>Cursed</td>\n      <td>45</td>\n    </tr>\n    <tr>\n      <th>...</th>\n      <td>...</td>\n      <td>...</td>\n      <td>...</td>\n      <td>...</td>\n      <td>...</td>\n      <td>...</td>\n      <td>...</td>\n      <td>...</td>\n      <td>...</td>\n    </tr>\n    <tr>\n      <th>2433</th>\n      <td>tt9734958</td>\n      <td>tt7335184</td>\n      <td>2</td>\n      <td>7</td>\n      <td>2019</td>\n      <td>8.3</td>\n      <td>3079</td>\n      <td>Ex-istential Crisis</td>\n      <td>50</td>\n    </tr>\n    <tr>\n      <th>2434</th>\n      <td>tt9734986</td>\n      <td>tt7335184</td>\n      <td>2</td>\n      <td>8</td>\n      <td>2019</td>\n      <td>8.7</td>\n      <td>3921</td>\n      <td>Fear and Loathing in Beverly Hills</td>\n      <td>48</td>\n    </tr>\n    <tr>\n      <th>2435</th>\n      <td>tt9734994</td>\n      <td>tt7335184</td>\n      <td>2</td>\n      <td>9</td>\n      <td>2019</td>\n      <td>9.0</td>\n      <td>4233</td>\n      <td>P.I. Joe</td>\n      <td>44</td>\n    </tr>\n    <tr>\n      <th>2436</th>\n      <td>tt9734998</td>\n      <td>tt7335184</td>\n      <td>2</td>\n      <td>10</td>\n      <td>2019</td>\n      <td>8.6</td>\n      <td>4225</td>\n      <td>Love, Actually</td>\n      <td>49</td>\n    </tr>\n    <tr>\n      <th>2437</th>\n      <td>tt9765202</td>\n      <td>tt0206512</td>\n      <td>13</td>\n      <td>1</td>\n      <td>2020</td>\n      <td>6.8</td>\n      <td>177</td>\n      <td>A Place for Pets/Lockdown for Love</td>\n      <td>23</td>\n    </tr>\n  </tbody>\n</table>\n<p>2438 rows × 9 columns</p>\n</div>"
     },
     "execution_count": 125,
     "metadata": {},
     "output_type": "execute_result"
    }
   ],
   "source": [
    "df2 = pd.read_csv(\"./data/AllSeriesEpisodes_Feb25.csv\")\n",
    "df2"
   ],
   "metadata": {
    "collapsed": false,
    "pycharm": {
     "name": "#%%\n"
    }
   }
  },
  {
   "cell_type": "code",
   "execution_count": 127,
   "outputs": [
    {
     "data": {
      "text/plain": "              seasonNumber  episodeNumber  startYear  averageRating  numVotes  \\\nparentTconst                                                                    \ntt0206512             1913           3250     581058         2069.8    157281   \ntt0412142              789           2049     353422         1482.3    495408   \ntt0460649             1062           2516     417998         1667.4    793230   \ntt0773262              432            624     192912          813.3    501451   \ntt0844441              311            500     162878          640.1    124450   \ntt0898266             1861           3405     563691         2177.3    903281   \ntt0903747              204            437     124646          555.4   1895428   \ntt0944947              307            379     147043          638.0   4123206   \ntt0979432              163            348     114676          479.6    111914   \ntt10048342               7             28      14140           59.7     70520   \ntt10155688               7             28      14147           59.6     38319   \ntt10166622               8             36      16176           61.6      5561   \ntt12005128               8             36      16176           59.4      3192   \ntt12530128               8             36      16176           63.6      1161   \ntt13207736              10             55      20220           79.7     40624   \ntt13837672               4             10       8084           26.6      2949   \ntt14164730              10             55      20212           83.0     97388   \ntt14852808               7             28      14154           49.1      9544   \ntt1520211             1188           1617     356903         1401.4   1893828   \ntt1796960              432            624     193439          788.2    268367   \ntt1856010              243            491     147119          583.2    320914   \ntt2243973               78            273      78546          338.7    238061   \ntt2249007              322            523     165311          675.7     76737   \ntt2356777               48            108      48384          203.5    303260   \ntt2401256                8             36      16128           69.2     32601   \ntt2575988              180            265     106869          432.9     89817   \ntt2788432               58            155      58532          237.5     66552   \ntt2802850              104            231      82680          344.1    256351   \ntt3032476              228            366     127146          554.9    951626   \ntt3920596               21             56      28252          117.4     63356   \ntt4158110              116            279      90759          400.3    416213   \ntt4508902               38            156      50427          210.2     71001   \ntt4574334               86            162      68631          291.9    742849   \ntt5071412              116            270      88858          365.1    210610   \ntt5290382               28            100      38341          158.8    107836   \ntt5348176               48            108      48472          205.8     86706   \ntt5675620               39            182      52468          221.8    151554   \ntt6205862               13             90      26208          103.3       509   \ntt6517102               90            156      64622          264.8     54794   \ntt6763664               10             55      20180           86.0     89717   \ntt7049682                9             45      18171           77.4     71403   \ntt7335184               60            165      60580          238.6    100761   \ntt7366338                5             15      10095           47.7    253195   \ntt7423538                8             36      16160           61.3     14103   \ntt8134186                8             36      16160           62.4     12602   \ntt8134470                6             21      12120           46.3     17326   \ntt8550800               10             55      20200           79.8     36808   \n\n              runtimeMinutes  \nparentTconst                  \ntt0206512               6452  \ntt0412142               7811  \ntt0460649               5033  \ntt0773262               5076  \ntt0844441               4351  \ntt0898266               5684  \ntt0903747               2971  \ntt0944947               4214  \ntt0979432               3159  \ntt10048342               395  \ntt10155688               418  \ntt10166622               403  \ntt12005128               427  \ntt12530128                 0  \ntt13207736               526  \ntt13837672               219  \ntt14164730               530  \ntt14852808               334  \ntt1520211               8104  \ntt1796960               4978  \ntt1856010               3767  \ntt2243973               1683  \ntt2249007               4318  \ntt2356777               1446  \ntt2401256                521  \ntt2575988               1560  \ntt2788432               1600  \ntt2802850               2194  \ntt3032476               3133  \ntt3920596                702  \ntt4158110               2199  \ntt4508902                565  \ntt4574334               2070  \ntt5071412               2659  \ntt5290382               1014  \ntt5348176                777  \ntt5675620               1382  \ntt6205862                 48  \ntt6517102                830  \ntt6763664                576  \ntt7049682                529  \ntt7335184               1413  \ntt7366338                327  \ntt7423538                433  \ntt8134186                405  \ntt8134470                336  \ntt8550800                580  ",
      "text/html": "<div>\n<style scoped>\n    .dataframe tbody tr th:only-of-type {\n        vertical-align: middle;\n    }\n\n    .dataframe tbody tr th {\n        vertical-align: top;\n    }\n\n    .dataframe thead th {\n        text-align: right;\n    }\n</style>\n<table border=\"1\" class=\"dataframe\">\n  <thead>\n    <tr style=\"text-align: right;\">\n      <th></th>\n      <th>seasonNumber</th>\n      <th>episodeNumber</th>\n      <th>startYear</th>\n      <th>averageRating</th>\n      <th>numVotes</th>\n      <th>runtimeMinutes</th>\n    </tr>\n    <tr>\n      <th>parentTconst</th>\n      <th></th>\n      <th></th>\n      <th></th>\n      <th></th>\n      <th></th>\n      <th></th>\n    </tr>\n  </thead>\n  <tbody>\n    <tr>\n      <th>tt0206512</th>\n      <td>1913</td>\n      <td>3250</td>\n      <td>581058</td>\n      <td>2069.8</td>\n      <td>157281</td>\n      <td>6452</td>\n    </tr>\n    <tr>\n      <th>tt0412142</th>\n      <td>789</td>\n      <td>2049</td>\n      <td>353422</td>\n      <td>1482.3</td>\n      <td>495408</td>\n      <td>7811</td>\n    </tr>\n    <tr>\n      <th>tt0460649</th>\n      <td>1062</td>\n      <td>2516</td>\n      <td>417998</td>\n      <td>1667.4</td>\n      <td>793230</td>\n      <td>5033</td>\n    </tr>\n    <tr>\n      <th>tt0773262</th>\n      <td>432</td>\n      <td>624</td>\n      <td>192912</td>\n      <td>813.3</td>\n      <td>501451</td>\n      <td>5076</td>\n    </tr>\n    <tr>\n      <th>tt0844441</th>\n      <td>311</td>\n      <td>500</td>\n      <td>162878</td>\n      <td>640.1</td>\n      <td>124450</td>\n      <td>4351</td>\n    </tr>\n    <tr>\n      <th>tt0898266</th>\n      <td>1861</td>\n      <td>3405</td>\n      <td>563691</td>\n      <td>2177.3</td>\n      <td>903281</td>\n      <td>5684</td>\n    </tr>\n    <tr>\n      <th>tt0903747</th>\n      <td>204</td>\n      <td>437</td>\n      <td>124646</td>\n      <td>555.4</td>\n      <td>1895428</td>\n      <td>2971</td>\n    </tr>\n    <tr>\n      <th>tt0944947</th>\n      <td>307</td>\n      <td>379</td>\n      <td>147043</td>\n      <td>638.0</td>\n      <td>4123206</td>\n      <td>4214</td>\n    </tr>\n    <tr>\n      <th>tt0979432</th>\n      <td>163</td>\n      <td>348</td>\n      <td>114676</td>\n      <td>479.6</td>\n      <td>111914</td>\n      <td>3159</td>\n    </tr>\n    <tr>\n      <th>tt10048342</th>\n      <td>7</td>\n      <td>28</td>\n      <td>14140</td>\n      <td>59.7</td>\n      <td>70520</td>\n      <td>395</td>\n    </tr>\n    <tr>\n      <th>tt10155688</th>\n      <td>7</td>\n      <td>28</td>\n      <td>14147</td>\n      <td>59.6</td>\n      <td>38319</td>\n      <td>418</td>\n    </tr>\n    <tr>\n      <th>tt10166622</th>\n      <td>8</td>\n      <td>36</td>\n      <td>16176</td>\n      <td>61.6</td>\n      <td>5561</td>\n      <td>403</td>\n    </tr>\n    <tr>\n      <th>tt12005128</th>\n      <td>8</td>\n      <td>36</td>\n      <td>16176</td>\n      <td>59.4</td>\n      <td>3192</td>\n      <td>427</td>\n    </tr>\n    <tr>\n      <th>tt12530128</th>\n      <td>8</td>\n      <td>36</td>\n      <td>16176</td>\n      <td>63.6</td>\n      <td>1161</td>\n      <td>0</td>\n    </tr>\n    <tr>\n      <th>tt13207736</th>\n      <td>10</td>\n      <td>55</td>\n      <td>20220</td>\n      <td>79.7</td>\n      <td>40624</td>\n      <td>526</td>\n    </tr>\n    <tr>\n      <th>tt13837672</th>\n      <td>4</td>\n      <td>10</td>\n      <td>8084</td>\n      <td>26.6</td>\n      <td>2949</td>\n      <td>219</td>\n    </tr>\n    <tr>\n      <th>tt14164730</th>\n      <td>10</td>\n      <td>55</td>\n      <td>20212</td>\n      <td>83.0</td>\n      <td>97388</td>\n      <td>530</td>\n    </tr>\n    <tr>\n      <th>tt14852808</th>\n      <td>7</td>\n      <td>28</td>\n      <td>14154</td>\n      <td>49.1</td>\n      <td>9544</td>\n      <td>334</td>\n    </tr>\n    <tr>\n      <th>tt1520211</th>\n      <td>1188</td>\n      <td>1617</td>\n      <td>356903</td>\n      <td>1401.4</td>\n      <td>1893828</td>\n      <td>8104</td>\n    </tr>\n    <tr>\n      <th>tt1796960</th>\n      <td>432</td>\n      <td>624</td>\n      <td>193439</td>\n      <td>788.2</td>\n      <td>268367</td>\n      <td>4978</td>\n    </tr>\n    <tr>\n      <th>tt1856010</th>\n      <td>243</td>\n      <td>491</td>\n      <td>147119</td>\n      <td>583.2</td>\n      <td>320914</td>\n      <td>3767</td>\n    </tr>\n    <tr>\n      <th>tt2243973</th>\n      <td>78</td>\n      <td>273</td>\n      <td>78546</td>\n      <td>338.7</td>\n      <td>238061</td>\n      <td>1683</td>\n    </tr>\n    <tr>\n      <th>tt2249007</th>\n      <td>322</td>\n      <td>523</td>\n      <td>165311</td>\n      <td>675.7</td>\n      <td>76737</td>\n      <td>4318</td>\n    </tr>\n    <tr>\n      <th>tt2356777</th>\n      <td>48</td>\n      <td>108</td>\n      <td>48384</td>\n      <td>203.5</td>\n      <td>303260</td>\n      <td>1446</td>\n    </tr>\n    <tr>\n      <th>tt2401256</th>\n      <td>8</td>\n      <td>36</td>\n      <td>16128</td>\n      <td>69.2</td>\n      <td>32601</td>\n      <td>521</td>\n    </tr>\n    <tr>\n      <th>tt2575988</th>\n      <td>180</td>\n      <td>265</td>\n      <td>106869</td>\n      <td>432.9</td>\n      <td>89817</td>\n      <td>1560</td>\n    </tr>\n    <tr>\n      <th>tt2788432</th>\n      <td>58</td>\n      <td>155</td>\n      <td>58532</td>\n      <td>237.5</td>\n      <td>66552</td>\n      <td>1600</td>\n    </tr>\n    <tr>\n      <th>tt2802850</th>\n      <td>104</td>\n      <td>231</td>\n      <td>82680</td>\n      <td>344.1</td>\n      <td>256351</td>\n      <td>2194</td>\n    </tr>\n    <tr>\n      <th>tt3032476</th>\n      <td>228</td>\n      <td>366</td>\n      <td>127146</td>\n      <td>554.9</td>\n      <td>951626</td>\n      <td>3133</td>\n    </tr>\n    <tr>\n      <th>tt3920596</th>\n      <td>21</td>\n      <td>56</td>\n      <td>28252</td>\n      <td>117.4</td>\n      <td>63356</td>\n      <td>702</td>\n    </tr>\n    <tr>\n      <th>tt4158110</th>\n      <td>116</td>\n      <td>279</td>\n      <td>90759</td>\n      <td>400.3</td>\n      <td>416213</td>\n      <td>2199</td>\n    </tr>\n    <tr>\n      <th>tt4508902</th>\n      <td>38</td>\n      <td>156</td>\n      <td>50427</td>\n      <td>210.2</td>\n      <td>71001</td>\n      <td>565</td>\n    </tr>\n    <tr>\n      <th>tt4574334</th>\n      <td>86</td>\n      <td>162</td>\n      <td>68631</td>\n      <td>291.9</td>\n      <td>742849</td>\n      <td>2070</td>\n    </tr>\n    <tr>\n      <th>tt5071412</th>\n      <td>116</td>\n      <td>270</td>\n      <td>88858</td>\n      <td>365.1</td>\n      <td>210610</td>\n      <td>2659</td>\n    </tr>\n    <tr>\n      <th>tt5290382</th>\n      <td>28</td>\n      <td>100</td>\n      <td>38341</td>\n      <td>158.8</td>\n      <td>107836</td>\n      <td>1014</td>\n    </tr>\n    <tr>\n      <th>tt5348176</th>\n      <td>48</td>\n      <td>108</td>\n      <td>48472</td>\n      <td>205.8</td>\n      <td>86706</td>\n      <td>777</td>\n    </tr>\n    <tr>\n      <th>tt5675620</th>\n      <td>39</td>\n      <td>182</td>\n      <td>52468</td>\n      <td>221.8</td>\n      <td>151554</td>\n      <td>1382</td>\n    </tr>\n    <tr>\n      <th>tt6205862</th>\n      <td>13</td>\n      <td>90</td>\n      <td>26208</td>\n      <td>103.3</td>\n      <td>509</td>\n      <td>48</td>\n    </tr>\n    <tr>\n      <th>tt6517102</th>\n      <td>90</td>\n      <td>156</td>\n      <td>64622</td>\n      <td>264.8</td>\n      <td>54794</td>\n      <td>830</td>\n    </tr>\n    <tr>\n      <th>tt6763664</th>\n      <td>10</td>\n      <td>55</td>\n      <td>20180</td>\n      <td>86.0</td>\n      <td>89717</td>\n      <td>576</td>\n    </tr>\n    <tr>\n      <th>tt7049682</th>\n      <td>9</td>\n      <td>45</td>\n      <td>18171</td>\n      <td>77.4</td>\n      <td>71403</td>\n      <td>529</td>\n    </tr>\n    <tr>\n      <th>tt7335184</th>\n      <td>60</td>\n      <td>165</td>\n      <td>60580</td>\n      <td>238.6</td>\n      <td>100761</td>\n      <td>1413</td>\n    </tr>\n    <tr>\n      <th>tt7366338</th>\n      <td>5</td>\n      <td>15</td>\n      <td>10095</td>\n      <td>47.7</td>\n      <td>253195</td>\n      <td>327</td>\n    </tr>\n    <tr>\n      <th>tt7423538</th>\n      <td>8</td>\n      <td>36</td>\n      <td>16160</td>\n      <td>61.3</td>\n      <td>14103</td>\n      <td>433</td>\n    </tr>\n    <tr>\n      <th>tt8134186</th>\n      <td>8</td>\n      <td>36</td>\n      <td>16160</td>\n      <td>62.4</td>\n      <td>12602</td>\n      <td>405</td>\n    </tr>\n    <tr>\n      <th>tt8134470</th>\n      <td>6</td>\n      <td>21</td>\n      <td>12120</td>\n      <td>46.3</td>\n      <td>17326</td>\n      <td>336</td>\n    </tr>\n    <tr>\n      <th>tt8550800</th>\n      <td>10</td>\n      <td>55</td>\n      <td>20200</td>\n      <td>79.8</td>\n      <td>36808</td>\n      <td>580</td>\n    </tr>\n  </tbody>\n</table>\n</div>"
     },
     "execution_count": 127,
     "metadata": {},
     "output_type": "execute_result"
    }
   ],
   "source": [
    "df2.groupby(\"parentTconst\").sum(numeric_only=True)"
   ],
   "metadata": {
    "collapsed": false,
    "pycharm": {
     "name": "#%%\n"
    }
   }
  },
  {
   "cell_type": "code",
   "execution_count": 129,
   "outputs": [],
   "source": [
    "# ALL CONTENT WATCHED\n",
    "# dict_tconst_title = {}\n",
    "# for x,y in df[['Const', 'Title']].values:\n",
    "#     dict_tconst_title[x] = y"
   ],
   "metadata": {
    "collapsed": false,
    "pycharm": {
     "name": "#%%\n"
    }
   }
  },
  {
   "cell_type": "code",
   "execution_count": 131,
   "outputs": [],
   "source": [
    "dict_tconst_title_series = {}\n",
    "for id, title in df[df['Title Type'].apply(lambda x : x in ['tvSeries', 'tvMiniSeries'])][['Const','Title']].values:\n",
    "    dict_tconst_title_series[id] = title\n"
   ],
   "metadata": {
    "collapsed": false,
    "pycharm": {
     "name": "#%%\n"
    }
   }
  },
  {
   "cell_type": "code",
   "execution_count": 132,
   "outputs": [
    {
     "data": {
      "text/plain": "{'tt10048342': \"The Queen's Gambit\",\n 'tt10155688': 'Mare of Easttown',\n 'tt10166622': 'The Dropout',\n 'tt12005128': 'WeCrashed',\n 'tt12530128': 'As We See It',\n 'tt13207736': 'Dahmer - Monster: The Jeffrey Dahmer Story',\n 'tt13837672': 'Crime Scene: The Vanishing at the Cecil Hotel',\n 'tt14164730': 'Dexter: New Blood',\n 'tt14852808': 'The Watcher',\n 'tt1520211': 'The Walking Dead',\n 'tt1796960': 'Homeland',\n 'tt1856010': 'House of Cards',\n 'tt0206512': 'SpongeBob SquarePants',\n 'tt2243973': 'Hannibal',\n 'tt2249007': 'Ray Donovan',\n 'tt2356777': 'True Detective',\n 'tt2401256': 'The Night Of',\n 'tt2575988': 'Silicon Valley',\n 'tt2788432': 'American Crime Story',\n 'tt2802850': 'Fargo',\n 'tt3032476': 'Better Call Saul',\n 'tt3920596': 'Big Little Lies',\n 'tt0412142': 'House M.D.',\n 'tt4158110': 'Mr. Robot',\n 'tt4508902': 'One Punch Man: Wanpanman',\n 'tt4574334': 'Stranger Things',\n 'tt0460649': 'How I Met Your Mother',\n 'tt5071412': 'Ozark',\n 'tt5290382': 'Mindhunter',\n 'tt5348176': 'Barry',\n 'tt5675620': 'The Punisher',\n 'tt6205862': 'Inside Look: The People v. O.J. Simpson - American Crime Story',\n 'tt6517102': 'Castlevania',\n 'tt6763664': 'The Haunting of Hill House',\n 'tt7049682': 'Watchmen',\n 'tt7335184': 'You',\n 'tt7366338': 'Chernobyl',\n 'tt7423538': 'Ratched',\n 'tt0773262': 'Dexter',\n 'tt8134186': 'Devs',\n 'tt8134470': 'The Undoing',\n 'tt0844441': 'True Blood',\n 'tt8550800': 'The Outsider',\n 'tt0898266': 'The Big Bang Theory',\n 'tt0903747': 'Breaking Bad',\n 'tt0944947': 'Game of Thrones',\n 'tt0979432': 'Boardwalk Empire'}"
     },
     "execution_count": 132,
     "metadata": {},
     "output_type": "execute_result"
    }
   ],
   "source": [
    "dict_tconst_title_series"
   ],
   "metadata": {
    "collapsed": false,
    "pycharm": {
     "name": "#%%\n"
    }
   }
  },
  {
   "cell_type": "code",
   "execution_count": null,
   "outputs": [],
   "source": [],
   "metadata": {
    "collapsed": false,
    "pycharm": {
     "name": "#%%\n"
    }
   }
  },
  {
   "cell_type": "code",
   "execution_count": null,
   "outputs": [],
   "source": [],
   "metadata": {
    "collapsed": false,
    "pycharm": {
     "name": "#%%\n"
    }
   }
  },
  {
   "cell_type": "code",
   "execution_count": 134,
   "outputs": [
    {
     "data": {
      "text/plain": "         tconst parentTconst  seasonNumber  episodeNumber  startYear  \\\n0     tt0606011    tt0412142             2              1       2005   \n1     tt0606012    tt0412142             2              2       2005   \n2     tt0606013    tt0412142             1             18       2005   \n3     tt0606014    tt0412142             1             14       2005   \n4     tt0606015    tt0412142             1             13       2005   \n...         ...          ...           ...            ...        ...   \n2433  tt9734958    tt7335184             2              7       2019   \n2434  tt9734986    tt7335184             2              8       2019   \n2435  tt9734994    tt7335184             2              9       2019   \n2436  tt9734998    tt7335184             2             10       2019   \n2437  tt9765202    tt0206512            13              1       2020   \n\n      averageRating  numVotes                        primaryTitle  \\\n0               8.4      2967                          Acceptance   \n1               9.2      4355                             Autopsy   \n2               8.8      3233                  Babies & Bathwater   \n3               8.6      3156                             Control   \n4               8.1      2946                              Cursed   \n...             ...       ...                                 ...   \n2433            8.3      3079                 Ex-istential Crisis   \n2434            8.7      3921  Fear and Loathing in Beverly Hills   \n2435            9.0      4233                            P.I. Joe   \n2436            8.6      4225                      Love, Actually   \n2437            6.8       177  A Place for Pets/Lockdown for Love   \n\n      runtimeMinutes            seriesTitle  \n0                 44             House M.D.  \n1                 44             House M.D.  \n2                 44             House M.D.  \n3                 45             House M.D.  \n4                 45             House M.D.  \n...              ...                    ...  \n2433              50                    You  \n2434              48                    You  \n2435              44                    You  \n2436              49                    You  \n2437              23  SpongeBob SquarePants  \n\n[2438 rows x 10 columns]",
      "text/html": "<div>\n<style scoped>\n    .dataframe tbody tr th:only-of-type {\n        vertical-align: middle;\n    }\n\n    .dataframe tbody tr th {\n        vertical-align: top;\n    }\n\n    .dataframe thead th {\n        text-align: right;\n    }\n</style>\n<table border=\"1\" class=\"dataframe\">\n  <thead>\n    <tr style=\"text-align: right;\">\n      <th></th>\n      <th>tconst</th>\n      <th>parentTconst</th>\n      <th>seasonNumber</th>\n      <th>episodeNumber</th>\n      <th>startYear</th>\n      <th>averageRating</th>\n      <th>numVotes</th>\n      <th>primaryTitle</th>\n      <th>runtimeMinutes</th>\n      <th>seriesTitle</th>\n    </tr>\n  </thead>\n  <tbody>\n    <tr>\n      <th>0</th>\n      <td>tt0606011</td>\n      <td>tt0412142</td>\n      <td>2</td>\n      <td>1</td>\n      <td>2005</td>\n      <td>8.4</td>\n      <td>2967</td>\n      <td>Acceptance</td>\n      <td>44</td>\n      <td>House M.D.</td>\n    </tr>\n    <tr>\n      <th>1</th>\n      <td>tt0606012</td>\n      <td>tt0412142</td>\n      <td>2</td>\n      <td>2</td>\n      <td>2005</td>\n      <td>9.2</td>\n      <td>4355</td>\n      <td>Autopsy</td>\n      <td>44</td>\n      <td>House M.D.</td>\n    </tr>\n    <tr>\n      <th>2</th>\n      <td>tt0606013</td>\n      <td>tt0412142</td>\n      <td>1</td>\n      <td>18</td>\n      <td>2005</td>\n      <td>8.8</td>\n      <td>3233</td>\n      <td>Babies &amp; Bathwater</td>\n      <td>44</td>\n      <td>House M.D.</td>\n    </tr>\n    <tr>\n      <th>3</th>\n      <td>tt0606014</td>\n      <td>tt0412142</td>\n      <td>1</td>\n      <td>14</td>\n      <td>2005</td>\n      <td>8.6</td>\n      <td>3156</td>\n      <td>Control</td>\n      <td>45</td>\n      <td>House M.D.</td>\n    </tr>\n    <tr>\n      <th>4</th>\n      <td>tt0606015</td>\n      <td>tt0412142</td>\n      <td>1</td>\n      <td>13</td>\n      <td>2005</td>\n      <td>8.1</td>\n      <td>2946</td>\n      <td>Cursed</td>\n      <td>45</td>\n      <td>House M.D.</td>\n    </tr>\n    <tr>\n      <th>...</th>\n      <td>...</td>\n      <td>...</td>\n      <td>...</td>\n      <td>...</td>\n      <td>...</td>\n      <td>...</td>\n      <td>...</td>\n      <td>...</td>\n      <td>...</td>\n      <td>...</td>\n    </tr>\n    <tr>\n      <th>2433</th>\n      <td>tt9734958</td>\n      <td>tt7335184</td>\n      <td>2</td>\n      <td>7</td>\n      <td>2019</td>\n      <td>8.3</td>\n      <td>3079</td>\n      <td>Ex-istential Crisis</td>\n      <td>50</td>\n      <td>You</td>\n    </tr>\n    <tr>\n      <th>2434</th>\n      <td>tt9734986</td>\n      <td>tt7335184</td>\n      <td>2</td>\n      <td>8</td>\n      <td>2019</td>\n      <td>8.7</td>\n      <td>3921</td>\n      <td>Fear and Loathing in Beverly Hills</td>\n      <td>48</td>\n      <td>You</td>\n    </tr>\n    <tr>\n      <th>2435</th>\n      <td>tt9734994</td>\n      <td>tt7335184</td>\n      <td>2</td>\n      <td>9</td>\n      <td>2019</td>\n      <td>9.0</td>\n      <td>4233</td>\n      <td>P.I. Joe</td>\n      <td>44</td>\n      <td>You</td>\n    </tr>\n    <tr>\n      <th>2436</th>\n      <td>tt9734998</td>\n      <td>tt7335184</td>\n      <td>2</td>\n      <td>10</td>\n      <td>2019</td>\n      <td>8.6</td>\n      <td>4225</td>\n      <td>Love, Actually</td>\n      <td>49</td>\n      <td>You</td>\n    </tr>\n    <tr>\n      <th>2437</th>\n      <td>tt9765202</td>\n      <td>tt0206512</td>\n      <td>13</td>\n      <td>1</td>\n      <td>2020</td>\n      <td>6.8</td>\n      <td>177</td>\n      <td>A Place for Pets/Lockdown for Love</td>\n      <td>23</td>\n      <td>SpongeBob SquarePants</td>\n    </tr>\n  </tbody>\n</table>\n<p>2438 rows × 10 columns</p>\n</div>"
     },
     "execution_count": 134,
     "metadata": {},
     "output_type": "execute_result"
    }
   ],
   "source": [
    "# Tconst and Title Columns\n",
    "df2['seriesTitle'] = df2['parentTconst'].apply(lambda x : dict_tconst_title_series[x])\n",
    "df2"
   ],
   "metadata": {
    "collapsed": false,
    "pycharm": {
     "name": "#%%\n"
    }
   }
  },
  {
   "cell_type": "code",
   "execution_count": 135,
   "outputs": [
    {
     "name": "stderr",
     "output_type": "stream",
     "text": [
      "C:\\Users\\xenomorph\\AppData\\Local\\Temp\\ipykernel_22968\\1914669842.py:1: FutureWarning: The default value of numeric_only in DataFrameGroupBy.sum is deprecated. In a future version, numeric_only will default to False. Either specify numeric_only or select only columns which should be valid for the function.\n",
      "  df2.groupby(\"seriesTitle\").sum().sort_values(by=\"runtimeMinutes\", ascending=False)\n"
     ]
    },
    {
     "data": {
      "text/plain": "                                                    seasonNumber  \\\nseriesTitle                                                        \nThe Walking Dead                                            1188   \nHouse M.D.                                                   789   \nSpongeBob SquarePants                                       1913   \nThe Big Bang Theory                                         1861   \nDexter                                                       432   \nHow I Met Your Mother                                       1062   \nHomeland                                                     432   \nTrue Blood                                                   311   \nRay Donovan                                                  322   \nGame of Thrones                                              307   \nHouse of Cards                                               243   \nBoardwalk Empire                                             163   \nBetter Call Saul                                             228   \nBreaking Bad                                                 204   \nOzark                                                        116   \nMr. Robot                                                    116   \nFargo                                                        104   \nStranger Things                                               86   \nHannibal                                                      78   \nAmerican Crime Story                                          58   \nSilicon Valley                                               180   \nTrue Detective                                                48   \nYou                                                           60   \nThe Punisher                                                  39   \nMindhunter                                                    28   \nCastlevania                                                   90   \nBarry                                                         48   \nBig Little Lies                                               21   \nThe Outsider                                                  10   \nThe Haunting of Hill House                                    10   \nOne Punch Man: Wanpanman                                      38   \nDexter: New Blood                                             10   \nWatchmen                                                       9   \nDahmer - Monster: The Jeffrey Dahmer Story                    10   \nThe Night Of                                                   8   \nRatched                                                        8   \nWeCrashed                                                      8   \nMare of Easttown                                               7   \nDevs                                                           8   \nThe Dropout                                                    8   \nThe Queen's Gambit                                             7   \nThe Undoing                                                    6   \nThe Watcher                                                    7   \nChernobyl                                                      5   \nCrime Scene: The Vanishing at the Cecil Hotel                  4   \nInside Look: The People v. O.J. Simpson - Ameri...            13   \nAs We See It                                                   8   \n\n                                                    episodeNumber  startYear  \\\nseriesTitle                                                                    \nThe Walking Dead                                             1617     356903   \nHouse M.D.                                                   2049     353422   \nSpongeBob SquarePants                                        3250     581058   \nThe Big Bang Theory                                          3405     563691   \nDexter                                                        624     192912   \nHow I Met Your Mother                                        2516     417998   \nHomeland                                                      624     193439   \nTrue Blood                                                    500     162878   \nRay Donovan                                                   523     165311   \nGame of Thrones                                               379     147043   \nHouse of Cards                                                491     147119   \nBoardwalk Empire                                              348     114676   \nBetter Call Saul                                              366     127146   \nBreaking Bad                                                  437     124646   \nOzark                                                         270      88858   \nMr. Robot                                                     279      90759   \nFargo                                                         231      82680   \nStranger Things                                               162      68631   \nHannibal                                                      273      78546   \nAmerican Crime Story                                          155      58532   \nSilicon Valley                                                265     106869   \nTrue Detective                                                108      48384   \nYou                                                           165      60580   \nThe Punisher                                                  182      52468   \nMindhunter                                                    100      38341   \nCastlevania                                                   156      64622   \nBarry                                                         108      48472   \nBig Little Lies                                                56      28252   \nThe Outsider                                                   55      20200   \nThe Haunting of Hill House                                     55      20180   \nOne Punch Man: Wanpanman                                      156      50427   \nDexter: New Blood                                              55      20212   \nWatchmen                                                       45      18171   \nDahmer - Monster: The Jeffrey Dahmer Story                     55      20220   \nThe Night Of                                                   36      16128   \nRatched                                                        36      16160   \nWeCrashed                                                      36      16176   \nMare of Easttown                                               28      14147   \nDevs                                                           36      16160   \nThe Dropout                                                    36      16176   \nThe Queen's Gambit                                             28      14140   \nThe Undoing                                                    21      12120   \nThe Watcher                                                    28      14154   \nChernobyl                                                      15      10095   \nCrime Scene: The Vanishing at the Cecil Hotel                  10       8084   \nInside Look: The People v. O.J. Simpson - Ameri...             90      26208   \nAs We See It                                                   36      16176   \n\n                                                    averageRating  numVotes  \\\nseriesTitle                                                                   \nThe Walking Dead                                           1401.4   1893828   \nHouse M.D.                                                 1482.3    495408   \nSpongeBob SquarePants                                      2069.8    157281   \nThe Big Bang Theory                                        2177.3    903281   \nDexter                                                      813.3    501451   \nHow I Met Your Mother                                      1667.4    793230   \nHomeland                                                    788.2    268367   \nTrue Blood                                                  640.1    124450   \nRay Donovan                                                 675.7     76737   \nGame of Thrones                                             638.0   4123206   \nHouse of Cards                                              583.2    320914   \nBoardwalk Empire                                            479.6    111914   \nBetter Call Saul                                            554.9    951626   \nBreaking Bad                                                555.4   1895428   \nOzark                                                       365.1    210610   \nMr. Robot                                                   400.3    416213   \nFargo                                                       344.1    256351   \nStranger Things                                             291.9    742849   \nHannibal                                                    338.7    238061   \nAmerican Crime Story                                        237.5     66552   \nSilicon Valley                                              432.9     89817   \nTrue Detective                                              203.5    303260   \nYou                                                         238.6    100761   \nThe Punisher                                                221.8    151554   \nMindhunter                                                  158.8    107836   \nCastlevania                                                 264.8     54794   \nBarry                                                       205.8     86706   \nBig Little Lies                                             117.4     63356   \nThe Outsider                                                 79.8     36808   \nThe Haunting of Hill House                                   86.0     89717   \nOne Punch Man: Wanpanman                                    210.2     71001   \nDexter: New Blood                                            83.0     97388   \nWatchmen                                                     77.4     71403   \nDahmer - Monster: The Jeffrey Dahmer Story                   79.7     40624   \nThe Night Of                                                 69.2     32601   \nRatched                                                      61.3     14103   \nWeCrashed                                                    59.4      3192   \nMare of Easttown                                             59.6     38319   \nDevs                                                         62.4     12602   \nThe Dropout                                                  61.6      5561   \nThe Queen's Gambit                                           59.7     70520   \nThe Undoing                                                  46.3     17326   \nThe Watcher                                                  49.1      9544   \nChernobyl                                                    47.7    253195   \nCrime Scene: The Vanishing at the Cecil Hotel                26.6      2949   \nInside Look: The People v. O.J. Simpson - Ameri...          103.3       509   \nAs We See It                                                 63.6      1161   \n\n                                                    runtimeMinutes  \nseriesTitle                                                         \nThe Walking Dead                                              8104  \nHouse M.D.                                                    7811  \nSpongeBob SquarePants                                         6452  \nThe Big Bang Theory                                           5684  \nDexter                                                        5076  \nHow I Met Your Mother                                         5033  \nHomeland                                                      4978  \nTrue Blood                                                    4351  \nRay Donovan                                                   4318  \nGame of Thrones                                               4214  \nHouse of Cards                                                3767  \nBoardwalk Empire                                              3159  \nBetter Call Saul                                              3133  \nBreaking Bad                                                  2971  \nOzark                                                         2659  \nMr. Robot                                                     2199  \nFargo                                                         2194  \nStranger Things                                               2070  \nHannibal                                                      1683  \nAmerican Crime Story                                          1600  \nSilicon Valley                                                1560  \nTrue Detective                                                1446  \nYou                                                           1413  \nThe Punisher                                                  1382  \nMindhunter                                                    1014  \nCastlevania                                                    830  \nBarry                                                          777  \nBig Little Lies                                                702  \nThe Outsider                                                   580  \nThe Haunting of Hill House                                     576  \nOne Punch Man: Wanpanman                                       565  \nDexter: New Blood                                              530  \nWatchmen                                                       529  \nDahmer - Monster: The Jeffrey Dahmer Story                     526  \nThe Night Of                                                   521  \nRatched                                                        433  \nWeCrashed                                                      427  \nMare of Easttown                                               418  \nDevs                                                           405  \nThe Dropout                                                    403  \nThe Queen's Gambit                                             395  \nThe Undoing                                                    336  \nThe Watcher                                                    334  \nChernobyl                                                      327  \nCrime Scene: The Vanishing at the Cecil Hotel                  219  \nInside Look: The People v. O.J. Simpson - Ameri...              48  \nAs We See It                                                     0  ",
      "text/html": "<div>\n<style scoped>\n    .dataframe tbody tr th:only-of-type {\n        vertical-align: middle;\n    }\n\n    .dataframe tbody tr th {\n        vertical-align: top;\n    }\n\n    .dataframe thead th {\n        text-align: right;\n    }\n</style>\n<table border=\"1\" class=\"dataframe\">\n  <thead>\n    <tr style=\"text-align: right;\">\n      <th></th>\n      <th>seasonNumber</th>\n      <th>episodeNumber</th>\n      <th>startYear</th>\n      <th>averageRating</th>\n      <th>numVotes</th>\n      <th>runtimeMinutes</th>\n    </tr>\n    <tr>\n      <th>seriesTitle</th>\n      <th></th>\n      <th></th>\n      <th></th>\n      <th></th>\n      <th></th>\n      <th></th>\n    </tr>\n  </thead>\n  <tbody>\n    <tr>\n      <th>The Walking Dead</th>\n      <td>1188</td>\n      <td>1617</td>\n      <td>356903</td>\n      <td>1401.4</td>\n      <td>1893828</td>\n      <td>8104</td>\n    </tr>\n    <tr>\n      <th>House M.D.</th>\n      <td>789</td>\n      <td>2049</td>\n      <td>353422</td>\n      <td>1482.3</td>\n      <td>495408</td>\n      <td>7811</td>\n    </tr>\n    <tr>\n      <th>SpongeBob SquarePants</th>\n      <td>1913</td>\n      <td>3250</td>\n      <td>581058</td>\n      <td>2069.8</td>\n      <td>157281</td>\n      <td>6452</td>\n    </tr>\n    <tr>\n      <th>The Big Bang Theory</th>\n      <td>1861</td>\n      <td>3405</td>\n      <td>563691</td>\n      <td>2177.3</td>\n      <td>903281</td>\n      <td>5684</td>\n    </tr>\n    <tr>\n      <th>Dexter</th>\n      <td>432</td>\n      <td>624</td>\n      <td>192912</td>\n      <td>813.3</td>\n      <td>501451</td>\n      <td>5076</td>\n    </tr>\n    <tr>\n      <th>How I Met Your Mother</th>\n      <td>1062</td>\n      <td>2516</td>\n      <td>417998</td>\n      <td>1667.4</td>\n      <td>793230</td>\n      <td>5033</td>\n    </tr>\n    <tr>\n      <th>Homeland</th>\n      <td>432</td>\n      <td>624</td>\n      <td>193439</td>\n      <td>788.2</td>\n      <td>268367</td>\n      <td>4978</td>\n    </tr>\n    <tr>\n      <th>True Blood</th>\n      <td>311</td>\n      <td>500</td>\n      <td>162878</td>\n      <td>640.1</td>\n      <td>124450</td>\n      <td>4351</td>\n    </tr>\n    <tr>\n      <th>Ray Donovan</th>\n      <td>322</td>\n      <td>523</td>\n      <td>165311</td>\n      <td>675.7</td>\n      <td>76737</td>\n      <td>4318</td>\n    </tr>\n    <tr>\n      <th>Game of Thrones</th>\n      <td>307</td>\n      <td>379</td>\n      <td>147043</td>\n      <td>638.0</td>\n      <td>4123206</td>\n      <td>4214</td>\n    </tr>\n    <tr>\n      <th>House of Cards</th>\n      <td>243</td>\n      <td>491</td>\n      <td>147119</td>\n      <td>583.2</td>\n      <td>320914</td>\n      <td>3767</td>\n    </tr>\n    <tr>\n      <th>Boardwalk Empire</th>\n      <td>163</td>\n      <td>348</td>\n      <td>114676</td>\n      <td>479.6</td>\n      <td>111914</td>\n      <td>3159</td>\n    </tr>\n    <tr>\n      <th>Better Call Saul</th>\n      <td>228</td>\n      <td>366</td>\n      <td>127146</td>\n      <td>554.9</td>\n      <td>951626</td>\n      <td>3133</td>\n    </tr>\n    <tr>\n      <th>Breaking Bad</th>\n      <td>204</td>\n      <td>437</td>\n      <td>124646</td>\n      <td>555.4</td>\n      <td>1895428</td>\n      <td>2971</td>\n    </tr>\n    <tr>\n      <th>Ozark</th>\n      <td>116</td>\n      <td>270</td>\n      <td>88858</td>\n      <td>365.1</td>\n      <td>210610</td>\n      <td>2659</td>\n    </tr>\n    <tr>\n      <th>Mr. Robot</th>\n      <td>116</td>\n      <td>279</td>\n      <td>90759</td>\n      <td>400.3</td>\n      <td>416213</td>\n      <td>2199</td>\n    </tr>\n    <tr>\n      <th>Fargo</th>\n      <td>104</td>\n      <td>231</td>\n      <td>82680</td>\n      <td>344.1</td>\n      <td>256351</td>\n      <td>2194</td>\n    </tr>\n    <tr>\n      <th>Stranger Things</th>\n      <td>86</td>\n      <td>162</td>\n      <td>68631</td>\n      <td>291.9</td>\n      <td>742849</td>\n      <td>2070</td>\n    </tr>\n    <tr>\n      <th>Hannibal</th>\n      <td>78</td>\n      <td>273</td>\n      <td>78546</td>\n      <td>338.7</td>\n      <td>238061</td>\n      <td>1683</td>\n    </tr>\n    <tr>\n      <th>American Crime Story</th>\n      <td>58</td>\n      <td>155</td>\n      <td>58532</td>\n      <td>237.5</td>\n      <td>66552</td>\n      <td>1600</td>\n    </tr>\n    <tr>\n      <th>Silicon Valley</th>\n      <td>180</td>\n      <td>265</td>\n      <td>106869</td>\n      <td>432.9</td>\n      <td>89817</td>\n      <td>1560</td>\n    </tr>\n    <tr>\n      <th>True Detective</th>\n      <td>48</td>\n      <td>108</td>\n      <td>48384</td>\n      <td>203.5</td>\n      <td>303260</td>\n      <td>1446</td>\n    </tr>\n    <tr>\n      <th>You</th>\n      <td>60</td>\n      <td>165</td>\n      <td>60580</td>\n      <td>238.6</td>\n      <td>100761</td>\n      <td>1413</td>\n    </tr>\n    <tr>\n      <th>The Punisher</th>\n      <td>39</td>\n      <td>182</td>\n      <td>52468</td>\n      <td>221.8</td>\n      <td>151554</td>\n      <td>1382</td>\n    </tr>\n    <tr>\n      <th>Mindhunter</th>\n      <td>28</td>\n      <td>100</td>\n      <td>38341</td>\n      <td>158.8</td>\n      <td>107836</td>\n      <td>1014</td>\n    </tr>\n    <tr>\n      <th>Castlevania</th>\n      <td>90</td>\n      <td>156</td>\n      <td>64622</td>\n      <td>264.8</td>\n      <td>54794</td>\n      <td>830</td>\n    </tr>\n    <tr>\n      <th>Barry</th>\n      <td>48</td>\n      <td>108</td>\n      <td>48472</td>\n      <td>205.8</td>\n      <td>86706</td>\n      <td>777</td>\n    </tr>\n    <tr>\n      <th>Big Little Lies</th>\n      <td>21</td>\n      <td>56</td>\n      <td>28252</td>\n      <td>117.4</td>\n      <td>63356</td>\n      <td>702</td>\n    </tr>\n    <tr>\n      <th>The Outsider</th>\n      <td>10</td>\n      <td>55</td>\n      <td>20200</td>\n      <td>79.8</td>\n      <td>36808</td>\n      <td>580</td>\n    </tr>\n    <tr>\n      <th>The Haunting of Hill House</th>\n      <td>10</td>\n      <td>55</td>\n      <td>20180</td>\n      <td>86.0</td>\n      <td>89717</td>\n      <td>576</td>\n    </tr>\n    <tr>\n      <th>One Punch Man: Wanpanman</th>\n      <td>38</td>\n      <td>156</td>\n      <td>50427</td>\n      <td>210.2</td>\n      <td>71001</td>\n      <td>565</td>\n    </tr>\n    <tr>\n      <th>Dexter: New Blood</th>\n      <td>10</td>\n      <td>55</td>\n      <td>20212</td>\n      <td>83.0</td>\n      <td>97388</td>\n      <td>530</td>\n    </tr>\n    <tr>\n      <th>Watchmen</th>\n      <td>9</td>\n      <td>45</td>\n      <td>18171</td>\n      <td>77.4</td>\n      <td>71403</td>\n      <td>529</td>\n    </tr>\n    <tr>\n      <th>Dahmer - Monster: The Jeffrey Dahmer Story</th>\n      <td>10</td>\n      <td>55</td>\n      <td>20220</td>\n      <td>79.7</td>\n      <td>40624</td>\n      <td>526</td>\n    </tr>\n    <tr>\n      <th>The Night Of</th>\n      <td>8</td>\n      <td>36</td>\n      <td>16128</td>\n      <td>69.2</td>\n      <td>32601</td>\n      <td>521</td>\n    </tr>\n    <tr>\n      <th>Ratched</th>\n      <td>8</td>\n      <td>36</td>\n      <td>16160</td>\n      <td>61.3</td>\n      <td>14103</td>\n      <td>433</td>\n    </tr>\n    <tr>\n      <th>WeCrashed</th>\n      <td>8</td>\n      <td>36</td>\n      <td>16176</td>\n      <td>59.4</td>\n      <td>3192</td>\n      <td>427</td>\n    </tr>\n    <tr>\n      <th>Mare of Easttown</th>\n      <td>7</td>\n      <td>28</td>\n      <td>14147</td>\n      <td>59.6</td>\n      <td>38319</td>\n      <td>418</td>\n    </tr>\n    <tr>\n      <th>Devs</th>\n      <td>8</td>\n      <td>36</td>\n      <td>16160</td>\n      <td>62.4</td>\n      <td>12602</td>\n      <td>405</td>\n    </tr>\n    <tr>\n      <th>The Dropout</th>\n      <td>8</td>\n      <td>36</td>\n      <td>16176</td>\n      <td>61.6</td>\n      <td>5561</td>\n      <td>403</td>\n    </tr>\n    <tr>\n      <th>The Queen's Gambit</th>\n      <td>7</td>\n      <td>28</td>\n      <td>14140</td>\n      <td>59.7</td>\n      <td>70520</td>\n      <td>395</td>\n    </tr>\n    <tr>\n      <th>The Undoing</th>\n      <td>6</td>\n      <td>21</td>\n      <td>12120</td>\n      <td>46.3</td>\n      <td>17326</td>\n      <td>336</td>\n    </tr>\n    <tr>\n      <th>The Watcher</th>\n      <td>7</td>\n      <td>28</td>\n      <td>14154</td>\n      <td>49.1</td>\n      <td>9544</td>\n      <td>334</td>\n    </tr>\n    <tr>\n      <th>Chernobyl</th>\n      <td>5</td>\n      <td>15</td>\n      <td>10095</td>\n      <td>47.7</td>\n      <td>253195</td>\n      <td>327</td>\n    </tr>\n    <tr>\n      <th>Crime Scene: The Vanishing at the Cecil Hotel</th>\n      <td>4</td>\n      <td>10</td>\n      <td>8084</td>\n      <td>26.6</td>\n      <td>2949</td>\n      <td>219</td>\n    </tr>\n    <tr>\n      <th>Inside Look: The People v. O.J. Simpson - American Crime Story</th>\n      <td>13</td>\n      <td>90</td>\n      <td>26208</td>\n      <td>103.3</td>\n      <td>509</td>\n      <td>48</td>\n    </tr>\n    <tr>\n      <th>As We See It</th>\n      <td>8</td>\n      <td>36</td>\n      <td>16176</td>\n      <td>63.6</td>\n      <td>1161</td>\n      <td>0</td>\n    </tr>\n  </tbody>\n</table>\n</div>"
     },
     "execution_count": 135,
     "metadata": {},
     "output_type": "execute_result"
    }
   ],
   "source": [
    "df2.groupby(\"seriesTitle\").sum().sort_values(by=\"runtimeMinutes\", ascending=False)"
   ],
   "metadata": {
    "collapsed": false,
    "pycharm": {
     "name": "#%%\n"
    }
   }
  },
  {
   "cell_type": "code",
   "execution_count": 42,
   "outputs": [
    {
     "name": "stdout",
     "output_type": "stream",
     "text": [
      "<class 'pandas.core.frame.DataFrame'>\n",
      "RangeIndex: 2430 entries, 0 to 2429\n",
      "Data columns (total 10 columns):\n",
      " #   Column          Non-Null Count  Dtype  \n",
      "---  ------          --------------  -----  \n",
      " 0   tconst          2430 non-null   object \n",
      " 1   parentTconst    2430 non-null   object \n",
      " 2   seasonNumber    2430 non-null   int64  \n",
      " 3   episodeNumber   2430 non-null   int64  \n",
      " 4   startYear       2430 non-null   int64  \n",
      " 5   averageRating   2430 non-null   float64\n",
      " 6   numVotes        2430 non-null   int64  \n",
      " 7   primaryTitle    2430 non-null   object \n",
      " 8   runtimeMinutes  2430 non-null   int64  \n",
      " 9   seriesTitle     2430 non-null   object \n",
      "dtypes: float64(1), int64(5), object(4)\n",
      "memory usage: 190.0+ KB\n"
     ]
    }
   ],
   "source": [
    "df2.groupby(\"seriesTitle\").sum()"
   ],
   "metadata": {
    "collapsed": false,
    "pycharm": {
     "name": "#%%\n"
    }
   }
  },
  {
   "cell_type": "code",
   "execution_count": 136,
   "outputs": [
    {
     "data": {
      "text/plain": "{'tt10048342': \"The Queen's Gambit\",\n 'tt10155688': 'Mare of Easttown',\n 'tt10166622': 'The Dropout',\n 'tt12005128': 'WeCrashed',\n 'tt12530128': 'As We See It',\n 'tt13207736': 'Dahmer - Monster: The Jeffrey Dahmer Story',\n 'tt13837672': 'Crime Scene: The Vanishing at the Cecil Hotel',\n 'tt14164730': 'Dexter: New Blood',\n 'tt14852808': 'The Watcher',\n 'tt1520211': 'The Walking Dead',\n 'tt1796960': 'Homeland',\n 'tt1856010': 'House of Cards',\n 'tt0206512': 'SpongeBob SquarePants',\n 'tt2243973': 'Hannibal',\n 'tt2249007': 'Ray Donovan',\n 'tt2356777': 'True Detective',\n 'tt2401256': 'The Night Of',\n 'tt2575988': 'Silicon Valley',\n 'tt2788432': 'American Crime Story',\n 'tt2802850': 'Fargo',\n 'tt3032476': 'Better Call Saul',\n 'tt3920596': 'Big Little Lies',\n 'tt0412142': 'House M.D.',\n 'tt4158110': 'Mr. Robot',\n 'tt4508902': 'One Punch Man: Wanpanman',\n 'tt4574334': 'Stranger Things',\n 'tt0460649': 'How I Met Your Mother',\n 'tt5071412': 'Ozark',\n 'tt5290382': 'Mindhunter',\n 'tt5348176': 'Barry',\n 'tt5675620': 'The Punisher',\n 'tt6205862': 'Inside Look: The People v. O.J. Simpson - American Crime Story',\n 'tt6517102': 'Castlevania',\n 'tt6763664': 'The Haunting of Hill House',\n 'tt7049682': 'Watchmen',\n 'tt7335184': 'You',\n 'tt7366338': 'Chernobyl',\n 'tt7423538': 'Ratched',\n 'tt0773262': 'Dexter',\n 'tt8134186': 'Devs',\n 'tt8134470': 'The Undoing',\n 'tt0844441': 'True Blood',\n 'tt8550800': 'The Outsider',\n 'tt0898266': 'The Big Bang Theory',\n 'tt0903747': 'Breaking Bad',\n 'tt0944947': 'Game of Thrones',\n 'tt0979432': 'Boardwalk Empire'}"
     },
     "execution_count": 136,
     "metadata": {},
     "output_type": "execute_result"
    }
   ],
   "source": [
    "dict_tconst_title_series"
   ],
   "metadata": {
    "collapsed": false,
    "pycharm": {
     "name": "#%%\n"
    }
   }
  },
  {
   "cell_type": "code",
   "execution_count": 151,
   "outputs": [],
   "source": [
    "import json\n",
    "with open(\"./data/daniel_series_watched.json\",\"w\") as f:\n",
    "    json.dump([dict_tconst_title_series],f)"
   ],
   "metadata": {
    "collapsed": false,
    "pycharm": {
     "name": "#%%\n"
    }
   }
  },
  {
   "cell_type": "code",
   "execution_count": null,
   "outputs": [],
   "source": [],
   "metadata": {
    "collapsed": false,
    "pycharm": {
     "name": "#%%\n"
    }
   }
  },
  {
   "cell_type": "code",
   "execution_count": 158,
   "outputs": [
    {
     "data": {
      "text/plain": "{'tt10048342': \"The Queen's Gambit\",\n 'tt10155688': 'Mare of Easttown',\n 'tt10166622': 'The Dropout',\n 'tt12005128': 'WeCrashed',\n 'tt12530128': 'As We See It',\n 'tt13207736': 'Dahmer - Monster: The Jeffrey Dahmer Story',\n 'tt13837672': 'Crime Scene: The Vanishing at the Cecil Hotel',\n 'tt14164730': 'Dexter: New Blood',\n 'tt14852808': 'The Watcher',\n 'tt1520211': 'The Walking Dead',\n 'tt1796960': 'Homeland',\n 'tt1856010': 'House of Cards',\n 'tt0206512': 'SpongeBob SquarePants',\n 'tt2243973': 'Hannibal',\n 'tt2249007': 'Ray Donovan',\n 'tt2356777': 'True Detective',\n 'tt2401256': 'The Night Of',\n 'tt2575988': 'Silicon Valley',\n 'tt2788432': 'American Crime Story',\n 'tt2802850': 'Fargo',\n 'tt3032476': 'Better Call Saul',\n 'tt3920596': 'Big Little Lies',\n 'tt0412142': 'House M.D.',\n 'tt4158110': 'Mr. Robot',\n 'tt4508902': 'One Punch Man: Wanpanman',\n 'tt4574334': 'Stranger Things',\n 'tt0460649': 'How I Met Your Mother',\n 'tt5071412': 'Ozark',\n 'tt5290382': 'Mindhunter',\n 'tt5348176': 'Barry',\n 'tt5675620': 'The Punisher',\n 'tt6205862': 'Inside Look: The People v. O.J. Simpson - American Crime Story',\n 'tt6517102': 'Castlevania',\n 'tt6763664': 'The Haunting of Hill House',\n 'tt7049682': 'Watchmen',\n 'tt7335184': 'You',\n 'tt7366338': 'Chernobyl',\n 'tt7423538': 'Ratched',\n 'tt0773262': 'Dexter',\n 'tt8134186': 'Devs',\n 'tt8134470': 'The Undoing',\n 'tt0844441': 'True Blood',\n 'tt8550800': 'The Outsider',\n 'tt0898266': 'The Big Bang Theory',\n 'tt0903747': 'Breaking Bad',\n 'tt0944947': 'Game of Thrones',\n 'tt0979432': 'Boardwalk Empire'}"
     },
     "execution_count": 158,
     "metadata": {},
     "output_type": "execute_result"
    }
   ],
   "source": [
    "test_series = pd.read_json(\"./data/daniel_series_watched.json\").T\n",
    "test_series\n",
    "test_series2={}\n",
    "for key, title in test_series[0].items():\n",
    "    test_series2[key] = title\n",
    "test_series2\n"
   ],
   "metadata": {
    "collapsed": false,
    "pycharm": {
     "name": "#%%\n"
    }
   }
  },
  {
   "cell_type": "code",
   "execution_count": 161,
   "outputs": [
    {
     "name": "stdout",
     "output_type": "stream",
     "text": [
      "The Queen's Gambit\n",
      "Mare of Easttown\n",
      "The Dropout\n",
      "WeCrashed\n",
      "As We See It\n",
      "Dahmer - Monster: The Jeffrey Dahmer Story\n",
      "Crime Scene: The Vanishing at the Cecil Hotel\n",
      "Dexter: New Blood\n",
      "The Watcher\n",
      "The Walking Dead\n",
      "Homeland\n",
      "House of Cards\n",
      "SpongeBob SquarePants\n",
      "Hannibal\n",
      "Ray Donovan\n",
      "True Detective\n",
      "The Night Of\n",
      "Silicon Valley\n",
      "American Crime Story\n",
      "Fargo\n",
      "Better Call Saul\n",
      "Big Little Lies\n",
      "House M.D.\n",
      "Mr. Robot\n",
      "One Punch Man: Wanpanman\n",
      "Stranger Things\n",
      "How I Met Your Mother\n",
      "Ozark\n",
      "Mindhunter\n",
      "Barry\n",
      "The Punisher\n",
      "Inside Look: The People v. O.J. Simpson - American Crime Story\n",
      "Castlevania\n",
      "The Haunting of Hill House\n",
      "Watchmen\n",
      "You\n",
      "Chernobyl\n",
      "Ratched\n",
      "Dexter\n",
      "Devs\n",
      "The Undoing\n",
      "True Blood\n",
      "The Outsider\n",
      "The Big Bang Theory\n",
      "Breaking Bad\n",
      "Game of Thrones\n",
      "Boardwalk Empire\n"
     ]
    }
   ],
   "source": [
    "for key, title in test_series[0].items():\n",
    "    print(title)"
   ],
   "metadata": {
    "collapsed": false,
    "pycharm": {
     "name": "#%%\n"
    }
   }
  },
  {
   "cell_type": "code",
   "execution_count": 163,
   "outputs": [
    {
     "data": {
      "text/plain": "47"
     },
     "execution_count": 163,
     "metadata": {},
     "output_type": "execute_result"
    }
   ],
   "source": [
    "len(test_series)"
   ],
   "metadata": {
    "collapsed": false,
    "pycharm": {
     "name": "#%%\n"
    }
   }
  },
  {
   "cell_type": "markdown",
   "source": [
    "# <font color = 'red'>  TESTING Automation3"
   ],
   "metadata": {
    "collapsed": false,
    "pycharm": {
     "name": "#%% md\n"
    }
   }
  },
  {
   "cell_type": "code",
   "execution_count": 167,
   "outputs": [],
   "source": [
    "STRING1=\"Dahmer - Monster: The Jeffrey Dahmer Story\".replace(\" \",\"\").replace(\":\",\"\")"
   ],
   "metadata": {
    "collapsed": false,
    "pycharm": {
     "name": "#%%\n"
    }
   }
  },
  {
   "cell_type": "code",
   "execution_count": 168,
   "outputs": [
    {
     "data": {
      "text/plain": "'Dahmer-MonsterTheJeffreyDahmerStory'"
     },
     "execution_count": 168,
     "metadata": {},
     "output_type": "execute_result"
    }
   ],
   "source": [
    "STRING1"
   ],
   "metadata": {
    "collapsed": false,
    "pycharm": {
     "name": "#%%\n"
    }
   }
  },
  {
   "cell_type": "code",
   "execution_count": 169,
   "outputs": [],
   "source": [
    "STRING2 = \"JOE BIDEN\".replace(\" \",\"\").replace(\":\",\"\")"
   ],
   "metadata": {
    "collapsed": false,
    "pycharm": {
     "name": "#%%\n"
    }
   }
  },
  {
   "cell_type": "code",
   "execution_count": 170,
   "outputs": [
    {
     "data": {
      "text/plain": "'JOEBIDEN'"
     },
     "execution_count": 170,
     "metadata": {},
     "output_type": "execute_result"
    }
   ],
   "source": [
    "STRING2"
   ],
   "metadata": {
    "collapsed": false,
    "pycharm": {
     "name": "#%%\n"
    }
   }
  },
  {
   "cell_type": "code",
   "execution_count": null,
   "outputs": [],
   "source": [],
   "metadata": {
    "collapsed": false,
    "pycharm": {
     "name": "#%%\n"
    }
   }
  }
 ],
 "metadata": {
  "kernelspec": {
   "display_name": "Python 3",
   "language": "python",
   "name": "python3"
  },
  "language_info": {
   "codemirror_mode": {
    "name": "ipython",
    "version": 2
   },
   "file_extension": ".py",
   "mimetype": "text/x-python",
   "name": "python",
   "nbconvert_exporter": "python",
   "pygments_lexer": "ipython2",
   "version": "2.7.6"
  }
 },
 "nbformat": 4,
 "nbformat_minor": 0
}